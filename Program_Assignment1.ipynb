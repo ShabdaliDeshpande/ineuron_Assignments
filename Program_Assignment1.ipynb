{
 "cells": [
  {
   "cell_type": "code",
   "execution_count": 79,
   "id": "eb71fb29-fdb7-4234-b4a4-7e4662b5aec9",
   "metadata": {},
   "outputs": [
    {
     "data": {
      "text/plain": [
       "'Hello Python'"
      ]
     },
     "execution_count": 79,
     "metadata": {},
     "output_type": "execute_result"
    }
   ],
   "source": [
    "#Write a Python program to print \"Hello Python\"?\n",
    "\n",
    "def printing(a,b):\n",
    "    c=a+b\n",
    "    return c\n",
    "\n",
    "printing(\"Hello\",\" Python\")"
   ]
  },
  {
   "cell_type": "code",
   "execution_count": 96,
   "id": "dad15f6f-2fd7-4b37-b85a-68e24bde747f",
   "metadata": {},
   "outputs": [
    {
     "data": {
      "text/plain": [
       "5"
      ]
     },
     "execution_count": 96,
     "metadata": {},
     "output_type": "execute_result"
    }
   ],
   "source": [
    "#2. Write a Python program to do arithmetical operations addition and division.?\n",
    "\n",
    "class arithmetical:\n",
    "    def __init__(self,a,b):\n",
    "        self.a = a\n",
    "        self.b= b\n",
    "    def add(self):\n",
    "        c=self.a+self.b\n",
    "        print(\"The addition of two numbers is :{}\".format(c))\n",
    "        return c\n",
    "    def div(self):\n",
    "        c=self.a/self.b\n",
    "        print(\"The division  of two numbers is :{}\".format(c))\n",
    "        return c\n",
    "result = arithmetical(2,3) \n",
    "result.add()"
   ]
  },
  {
   "cell_type": "code",
   "execution_count": 97,
   "id": "d8a39963-2609-433e-9ef0-bdf2dc1a504e",
   "metadata": {},
   "outputs": [
    {
     "data": {
      "text/plain": [
       "0.6666666666666666"
      ]
     },
     "execution_count": 97,
     "metadata": {},
     "output_type": "execute_result"
    }
   ],
   "source": [
    "result.div()"
   ]
  },
  {
   "cell_type": "code",
   "execution_count": 90,
   "id": "50ffb36e-e8ce-4631-a833-701e1ff5b901",
   "metadata": {},
   "outputs": [],
   "source": [
    "#Write a Python program to find the area of a triangle?\n",
    "def AOT(base,height):\n",
    "    r = 1/2*base*height\n",
    "    print(\"The area of triangle in mm is :{} \".format(r))\n",
    "AOT(30,20)    "
   ]
  },
  {
   "cell_type": "code",
   "execution_count": 105,
   "id": "6e4eaced-de61-4493-8c4a-1a3f650ea34f",
   "metadata": {},
   "outputs": [],
   "source": [
    "#Write a Python program to swap two variables?\n",
    "def swap(a,b):\n",
    "    d=0\n",
    "    d=a\n",
    "    a=b\n",
    "    b=d\n",
    "    return a,b"
   ]
  },
  {
   "cell_type": "code",
   "execution_count": 106,
   "id": "727f83eb-0486-43bf-9fdc-b165920172f9",
   "metadata": {},
   "outputs": [
    {
     "data": {
      "text/plain": [
       "(20, 10)"
      ]
     },
     "execution_count": 106,
     "metadata": {},
     "output_type": "execute_result"
    }
   ],
   "source": [
    "swap(10,20)"
   ]
  },
  {
   "cell_type": "code",
   "execution_count": 121,
   "id": "6b060c5f-2f76-409c-ab2b-1a4977194627",
   "metadata": {},
   "outputs": [
    {
     "data": {
      "text/plain": [
       "2"
      ]
     },
     "execution_count": 121,
     "metadata": {},
     "output_type": "execute_result"
    }
   ],
   "source": [
    "#Write a Python program to generate a random number?\n",
    "import numpy as np\n",
    "np.random.randint(2,5)\n"
   ]
  },
  {
   "cell_type": "code",
   "execution_count": 111,
   "id": "386f8678-84e3-4185-9027-b730558e3bf7",
   "metadata": {},
   "outputs": [
    {
     "data": {
      "text/plain": [
       "10"
      ]
     },
     "execution_count": 111,
     "metadata": {},
     "output_type": "execute_result"
    }
   ],
   "source": [
    "random(10,100)"
   ]
  },
  {
   "cell_type": "code",
   "execution_count": null,
   "id": "6736cd40-af19-4996-87ff-b2195ef0f32b",
   "metadata": {},
   "outputs": [],
   "source": []
  },
  {
   "cell_type": "code",
   "execution_count": null,
   "id": "99f0a1e6-cf58-42b7-8677-88dc2154268b",
   "metadata": {},
   "outputs": [],
   "source": []
  }
 ],
 "metadata": {
  "kernelspec": {
   "display_name": "Python 3 (ipykernel)",
   "language": "python",
   "name": "python3"
  },
  "language_info": {
   "codemirror_mode": {
    "name": "ipython",
    "version": 3
   },
   "file_extension": ".py",
   "mimetype": "text/x-python",
   "name": "python",
   "nbconvert_exporter": "python",
   "pygments_lexer": "ipython3",
   "version": "3.10.6"
  }
 },
 "nbformat": 4,
 "nbformat_minor": 5
}
