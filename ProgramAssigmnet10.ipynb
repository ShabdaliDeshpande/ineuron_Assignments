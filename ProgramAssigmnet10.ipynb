{
 "cells": [
  {
   "cell_type": "markdown",
   "id": "965669de-3f56-46bf-ab4d-55e57641c6c3",
   "metadata": {},
   "source": [
    "1. Write a Python program to find sum of elements in list?\n",
    "2. Write a Python program to Multiply all numbers in the list?\n",
    "3. Write a Python program to find smallest number in a list?\n",
    "4. Write a Python program to find largest number in a list?\n",
    "5. Write a Python program to find second largest number in a list?\n",
    "6. Write a Python program to find N largest elements from a list?\n",
    "7. Write a Python program to print even numbers in a list?\n",
    "8. Write a Python program to print odd numbers in a List?\n",
    "9. Write a Python program to Remove empty List from List?\n",
    "10. Write a Python program to Cloning or Copying a list?\n",
    "11. Write a Python program to Count occurrences of an element in a list?"
   ]
  },
  {
   "cell_type": "markdown",
   "id": "f7aa1428-083b-44f9-b8e2-7a5c269300eb",
   "metadata": {},
   "source": [
    "Write a Python program to find sum of elements in list?"
   ]
  },
  {
   "cell_type": "code",
   "execution_count": 26,
   "id": "2ccf4e16-4443-4c6c-a29a-4361b16d3934",
   "metadata": {},
   "outputs": [
    {
     "data": {
      "text/plain": [
       "15"
      ]
     },
     "execution_count": 26,
     "metadata": {},
     "output_type": "execute_result"
    }
   ],
   "source": [
    "l = [1,2,3,4,5]\n",
    "sum(l)"
   ]
  },
  {
   "cell_type": "markdown",
   "id": "872cb902-4125-487f-a816-15c6594f9ad2",
   "metadata": {},
   "source": [
    "Write a Python program to Multiply all numbers in the list?"
   ]
  },
  {
   "cell_type": "code",
   "execution_count": 15,
   "id": "621159e5-a714-4ae2-b03b-94994850a0cd",
   "metadata": {},
   "outputs": [
    {
     "name": "stdout",
     "output_type": "stream",
     "text": [
      "The Multiplication of numbers in a given list is :120\n"
     ]
    }
   ],
   "source": [
    "t=1\n",
    "for i in l:\n",
    "    t = t*i\n",
    "print(\"The Multiplication of numbers in a given list is :{}\".format(t))\n",
    "    \n",
    "\n",
    "    "
   ]
  },
  {
   "cell_type": "markdown",
   "id": "9aa3ee14-2e8f-4cdf-aa4d-3dde90ae169d",
   "metadata": {},
   "source": [
    " Write a Python program to find smallest number in a list?"
   ]
  },
  {
   "cell_type": "code",
   "execution_count": 36,
   "id": "d7e65433-deee-41ca-b93d-4d4d4fa4e285",
   "metadata": {},
   "outputs": [
    {
     "data": {
      "text/plain": [
       "-1"
      ]
     },
     "execution_count": 36,
     "metadata": {},
     "output_type": "execute_result"
    }
   ],
   "source": [
    "S = [2,-1,0,4,8]\n",
    "S.sort()\n",
    "S[0]"
   ]
  },
  {
   "cell_type": "markdown",
   "id": "44f5fc02-f12b-49f3-ba14-31d245bfa033",
   "metadata": {},
   "source": [
    "Write a Python program to find largest number in a list?"
   ]
  },
  {
   "cell_type": "code",
   "execution_count": 37,
   "id": "4ee346d2-0d87-449c-9d28-7476457ef4f6",
   "metadata": {},
   "outputs": [
    {
     "data": {
      "text/plain": [
       "8"
      ]
     },
     "execution_count": 37,
     "metadata": {},
     "output_type": "execute_result"
    }
   ],
   "source": [
    "S[-1]"
   ]
  },
  {
   "cell_type": "markdown",
   "id": "0ef85721-c6fb-4b8d-a7f3-816a54e3e8f9",
   "metadata": {},
   "source": [
    "Write a Python program to find second largest number in a list?"
   ]
  },
  {
   "cell_type": "code",
   "execution_count": 38,
   "id": "e7419d8a-657d-4837-8de0-e6f973b30a8d",
   "metadata": {},
   "outputs": [
    {
     "data": {
      "text/plain": [
       "4"
      ]
     },
     "execution_count": 38,
     "metadata": {},
     "output_type": "execute_result"
    }
   ],
   "source": [
    "S[-2]"
   ]
  },
  {
   "cell_type": "markdown",
   "id": "89ebfa23-5a57-4117-91ba-ad7c162001bb",
   "metadata": {},
   "source": [
    "Write a Python program to find N largest elements from a list?"
   ]
  },
  {
   "cell_type": "code",
   "execution_count": 46,
   "id": "c3ddf863-9044-484c-8cc5-1d6810678ba5",
   "metadata": {},
   "outputs": [
    {
     "data": {
      "text/plain": [
       "[78, 10, 9, 6, 5]"
      ]
     },
     "execution_count": 46,
     "metadata": {},
     "output_type": "execute_result"
    }
   ],
   "source": [
    "list2 = [1,2,3,4,5,6,78,9,10]\n",
    "def nth_large(a):\n",
    "    list2.sort()\n",
    "    nth =list2[-(a):len(list2)]\n",
    "    result = nth[::-1]\n",
    "    return result\n",
    "nth_large(5)"
   ]
  },
  {
   "cell_type": "markdown",
   "id": "7588c49e-bc68-4414-a447-23110a276c79",
   "metadata": {},
   "source": [
    "Write a Python program to print odd  numbers in a list?"
   ]
  },
  {
   "cell_type": "code",
   "execution_count": 48,
   "id": "ba4c9a8b-4500-4845-8cad-7545c5ba0d3f",
   "metadata": {},
   "outputs": [
    {
     "data": {
      "text/plain": [
       "[1, 3, 5, 7, 9]"
      ]
     },
     "execution_count": 48,
     "metadata": {},
     "output_type": "execute_result"
    }
   ],
   "source": [
    "def odd_num(l):\n",
    "    ls = []\n",
    "    for i in l:\n",
    "        if type(i) == int:\n",
    "            if i%2!=0:\n",
    "                ls.append(i)\n",
    "    return ls\n",
    "odd_num([1,2,3,4,5,6,7,8,9,10])"
   ]
  },
  {
   "cell_type": "markdown",
   "id": "a94016c4-03a7-46f7-b05f-5caaf26d712b",
   "metadata": {},
   "source": [
    "Write a Python program to print even numbers in a list?"
   ]
  },
  {
   "cell_type": "code",
   "execution_count": 50,
   "id": "1770cdc5-57da-4225-8ab0-db40de2686d3",
   "metadata": {},
   "outputs": [
    {
     "data": {
      "text/plain": [
       "[2, 4, 6, 10]"
      ]
     },
     "execution_count": 50,
     "metadata": {},
     "output_type": "execute_result"
    }
   ],
   "source": [
    "def even_num(l):\n",
    "    ls = []\n",
    "    for i in l:\n",
    "        if type(i) == int:\n",
    "            if i%2==0:\n",
    "                ls.append(i)\n",
    "    return ls\n",
    "even_num([1,2,3,4,5,6,7,9,10])"
   ]
  },
  {
   "cell_type": "markdown",
   "id": "177b4eeb-4a13-4d1c-82f3-f303553439f8",
   "metadata": {},
   "source": [
    "Write a Python program to Remove empty List from List?"
   ]
  },
  {
   "cell_type": "code",
   "execution_count": 51,
   "id": "d44a0d81-7756-49a9-b62b-5890dad55930",
   "metadata": {},
   "outputs": [
    {
     "name": "stdin",
     "output_type": "stream",
     "text": [
      "Enter all elements of the list:  [1,2,3,[],4]\n"
     ]
    },
    {
     "name": "stdout",
     "output_type": "stream",
     "text": [
      "The List after removing [] is [1, 2, 3, 4]\n"
     ]
    }
   ],
   "source": [
    "def checkEmptyList():\n",
    "    in_list = eval(input('Enter all elements of the list: '))\n",
    "    if [] in in_list:\n",
    "        in_list.remove([])\n",
    "        print(f'The List after removing [] is {in_list}')\n",
    "    else:\n",
    "        print(f'There is no [] List in the list {in_list}')\n",
    "        \n",
    "checkEmptyList()"
   ]
  },
  {
   "cell_type": "markdown",
   "id": "fe2a49e9-d00f-4ceb-b06e-1681e203d11b",
   "metadata": {},
   "source": [
    "Write a Python program to Cloning or Copying a list?"
   ]
  },
  {
   "cell_type": "code",
   "execution_count": 54,
   "id": "3e69c598-d632-4e12-b8b0-5154f7ea6e98",
   "metadata": {},
   "outputs": [
    {
     "name": "stdout",
     "output_type": "stream",
     "text": [
      "[1, 2, 3, 4, 5] 140616127878016\n",
      "[1, 2, 3, 4, 5] 140616127967232\n"
     ]
    }
   ],
   "source": [
    "import copy\n",
    "in_list = [1,2,3,4,5]\n",
    "def cloneList(a):\n",
    "    print(in_list, id(in_list))\n",
    "    cloned_list = in_list.copy()\n",
    "    print(cloned_list, id(cloned_list))\n",
    "\n",
    "cloneList(in_list)"
   ]
  },
  {
   "cell_type": "markdown",
   "id": "6766beb8-b189-4cc6-8554-97b163111ba2",
   "metadata": {},
   "source": [
    "Write a Python program to Count occurrences of an element in a list?"
   ]
  },
  {
   "cell_type": "code",
   "execution_count": 55,
   "id": "6df78bba-8271-46ab-801d-2263358b8a45",
   "metadata": {},
   "outputs": [
    {
     "data": {
      "text/plain": [
       "4"
      ]
     },
     "execution_count": 55,
     "metadata": {},
     "output_type": "execute_result"
    }
   ],
   "source": [
    "l2 = [1,2,2,2,2,3,3,3]\n",
    "l2.count(2)"
   ]
  },
  {
   "cell_type": "code",
   "execution_count": null,
   "id": "0cf6a97f-d59a-492e-bd55-20a7ef846642",
   "metadata": {},
   "outputs": [],
   "source": []
  }
 ],
 "metadata": {
  "kernelspec": {
   "display_name": "Python 3 (ipykernel)",
   "language": "python",
   "name": "python3"
  },
  "language_info": {
   "codemirror_mode": {
    "name": "ipython",
    "version": 3
   },
   "file_extension": ".py",
   "mimetype": "text/x-python",
   "name": "python",
   "nbconvert_exporter": "python",
   "pygments_lexer": "ipython3",
   "version": "3.10.6"
  }
 },
 "nbformat": 4,
 "nbformat_minor": 5
}
