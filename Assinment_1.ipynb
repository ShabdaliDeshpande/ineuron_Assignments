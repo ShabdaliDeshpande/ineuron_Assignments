{
 "cells": [
  {
   "cell_type": "raw",
   "id": "d90839ce-4bc2-40f6-bba5-69d48594e22b",
   "metadata": {},
   "source": [
    "1. In the below elements which of them are values or an expression? Eg :- values can be integer or string and expressions will be mathematical operators.\n",
    "\n",
    "*               Expressions\n",
    "\n",
    "'hello'         Value\n",
    "\n",
    "-87.8           Value\n",
    "\n",
    "-               Expressions\n",
    "\n",
    "/               Expressions\n",
    "\n",
    "+               Expressions\n",
    "\n",
    "6               Value\n"
   ]
  },
  {
   "cell_type": "raw",
   "id": "86b6dc34-12b3-447d-8ecb-c63d8bde6083",
   "metadata": {},
   "source": [
    "2. What is the difference between string and variable?\n",
    "\n",
    "The difference between variable and string is variable mainly used to store the data and string is a data itself. It can be stored in any variable.\n",
    "Variable can be representing by some defined formats i.e   _abc, X, _123z.\n",
    "String can be represent in single or double inverted quote i.e  ‘ ‘ or “ “.\n",
    "\n"
   ]
  },
  {
   "cell_type": "raw",
   "id": "88a8422f-df7b-4aa0-83b0-82ad2a04d9d3",
   "metadata": {},
   "source": [
    "3. Describe three different data types.\n",
    "\n",
    "Variables can store data of different types i.e. int, float, str, bool, complex, range\n",
    "\n",
    "1.Str data type is representation of string values i.e if a = ‘ABC’, type(a) = str\n",
    "\n",
    "2.float data type is a representation of float values i.e if a = 25.3 , type(a) = float\n",
    "\n",
    "3.bool data type is representation of Boolean values i.e a = True ,type(a) = bool \n"
   ]
  },
  {
   "cell_type": "raw",
   "id": "65604107-b27a-4184-9506-9ccea29f36bf",
   "metadata": {},
   "source": [
    "4. What is an expression made up of? What do all expressions do?\n",
    "\n",
    "An expression is made up of operators and values which can produce some other value.\n",
    "i.e In case of arithmetic expression, it can perform the addition of two numbers with the help of ‘ +’ & ‘=’ operators and gives produced value as a result.(2+3 =5)\n",
    "\n"
   ]
  },
  {
   "cell_type": "raw",
   "id": "b079b66b-12de-48be-a48e-66f37ba681a5",
   "metadata": {},
   "source": [
    "5. This assignment statements, like spam = 10. What is the difference between an expression and a statement?\n",
    "\n",
    "A statement is a complete line of code that performs some action, while an expression is any section of the code that returns a value. Expressions can be combined “horizontally” into larger expressions using operators, while statements can only be combined “vertically” by writing one after another, or with block constructs. Every expression can be used as a statement (whose effect is to evaluate the expression and ignore the resulting value), but most statements cannot be used as expressions.\n",
    "In above example, like span = 10 ,it can be expression as well as statement by ignoring the result value.\n"
   ]
  },
  {
   "cell_type": "raw",
   "id": "03a4252a-360b-476e-8429-ea1a17c806cc",
   "metadata": {},
   "source": [
    "6. After running the following code, what does the variable bacon contain?\n",
    "\n",
    "  bacon = 22\n",
    "  \n",
    "  bacon + 1\n",
    "  \n",
    "  Variable bacon will contain value 23\n"
   ]
  },
  {
   "cell_type": "raw",
   "id": "bbec5d5d-2696-46f3-9588-fbee7b588ad9",
   "metadata": {},
   "source": [
    "7. What should the values of the following two terms be?\n",
    "\n",
    "'spam' + 'spamspam'\n",
    "\n",
    "Ans : 'spamspamspam'\n",
    "\n",
    "\n",
    "'spam' * 3\n",
    "\n",
    "Ans :'spamspamspam'\n"
   ]
  },
  {
   "cell_type": "raw",
   "id": "d8d06104-f627-4f81-a427-9f5bce3ddd2a",
   "metadata": {},
   "source": [
    "8. Why is eggs a valid variable name while 100 is invalid?\n",
    "\n",
    "Because   variable enggs contains all the characters and it fulfils the python legal variable name\n",
    "But variable 100 is invalid because it contains numeric values which do not fulfils the python \n",
    "legal variable names\n",
    "\n",
    "Legal variable names i.e.myvar,my_var,_my_var ,myVar ,MYVAR,myvar2 \n"
   ]
  },
  {
   "cell_type": "raw",
   "id": "39153c90-c052-46b2-a7a3-314b18189aa3",
   "metadata": {},
   "source": [
    "9. What three functions can be used to get the integer, floating-point number, or string version of a value?\n",
    "\n",
    "1.int()\n",
    "\n",
    "2.float()\n",
    "\n",
    "3.string()\n"
   ]
  },
  {
   "cell_type": "raw",
   "id": "41539233-5fe9-4fe8-a7d8-5a29baa1ec69",
   "metadata": {},
   "source": [
    "10. Why does this expression cause an error? How can you fix it?\n",
    "\n",
    "'I have eaten ' + 99 + ' burritos.'\n",
    "\n",
    "Expression cause an error because in python cannot add integer and string. To fix the error can use int value 99 in string format as ‘99’.\n",
    "\n"
   ]
  },
  {
   "cell_type": "code",
   "execution_count": null,
   "id": "c6d854e5-c0a5-43c6-b416-2250d32a87cf",
   "metadata": {},
   "outputs": [],
   "source": []
  }
 ],
 "metadata": {
  "kernelspec": {
   "display_name": "Python 3 (ipykernel)",
   "language": "python",
   "name": "python3"
  },
  "language_info": {
   "codemirror_mode": {
    "name": "ipython",
    "version": 3
   },
   "file_extension": ".py",
   "mimetype": "text/x-python",
   "name": "python",
   "nbconvert_exporter": "python",
   "pygments_lexer": "ipython3",
   "version": "3.9.12"
  }
 },
 "nbformat": 4,
 "nbformat_minor": 5
}
