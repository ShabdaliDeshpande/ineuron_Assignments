{
 "cells": [
  {
   "cell_type": "markdown",
   "id": "f11b69f9-20b6-4271-8998-5c17fc115276",
   "metadata": {},
   "source": [
    "1. In the below elements which of them are values or an expression? Eg :- values can be integer or string and expressions will be mathematical operators.\n",
    "\n",
    "        *       - Expressions \n",
    "  \n",
    "\n",
    "       'hello'  - Value\n",
    "\n",
    "       -87.8    - Value\n",
    "\n",
    "       -        - Expressions\n",
    "\n",
    "       /        - Expressions\n",
    "\n",
    "       +        - Expressions\n",
    "\n",
    "       6        - Value\n"
   ]
  },
  {
   "cell_type": "markdown",
   "id": "aeec13c1-0b6c-4968-9f95-704c30b028c3",
   "metadata": {},
   "source": [
    "2. What is the difference between string and variable?\n",
    "\n",
    "The difference between variable and string is variable mainly used to store the data and string is a data itself. It can be stored in any variable.\n",
    "Variable can be representing by some defined formats i.e   _abc, X, _123z.\n",
    "String can be represent in single or double inverted quote i.e  ‘ ‘ or “ “.\n",
    "\n"
   ]
  },
  {
   "cell_type": "markdown",
   "id": "f1cc29f8-76e3-4ecd-83f6-7d1fd41f61c8",
   "metadata": {},
   "source": [
    "3.Describe three different data types.\n",
    "\n",
    "Variables can store data of different types i.e. int, float, str, bool, complex, range\n",
    "\n",
    "1.Str data type is representation of string values i.e if a = ‘ABC’, type(a) = str\n",
    "\n",
    "2.float data type is a representation of float values i.e if a = 25.3 , type(a) = float\n",
    "\n",
    "3.bool data type is representation of Boolean values i.e a = True ,type(a) = bool \n"
   ]
  },
  {
   "cell_type": "markdown",
   "id": "0d773d88-6157-485c-ac33-daa5ffa955d5",
   "metadata": {},
   "source": [
    "4.What is an expression made up of? What do all expressions do?\n",
    "\n",
    "An expression is made up of operators and values which can produce some other value.\n",
    "i.e In case of arithmetic expression, it can perform the addition of two numbers with the help of ‘ +’ & ‘=’ operators and gives produced value as a result.(2+3 =5)\n",
    "\n"
   ]
  },
  {
   "cell_type": "markdown",
   "id": "dbef427e-1925-4a39-994b-0d56413ecda3",
   "metadata": {},
   "source": [
    "5.This assignment statements, like spam = 10. What is the difference between an expression and a statement?\n",
    "\n",
    "A statement is a complete line of code that performs some action, while an expression is any section of the code that returns a value. Expressions can be combined “horizontally” into larger expressions using operators, while statements can only be combined “vertically” by writing one after another, or with block constructs. Every expression can be used as a statement (whose effect is to evaluate the expression and ignore the resulting value), but most statements cannot be used as expressions.\n",
    "In above example, like span = 10 ,it can be expression as well as statement by ignoring the result value.\n"
   ]
  },
  {
   "cell_type": "markdown",
   "id": "145ba8c2-8e38-404c-8961-ea0ae9705069",
   "metadata": {},
   "source": [
    "6.After running the following code, what does the variable bacon contain?\n",
    "\n",
    "  bacon = 22\n",
    "  \n",
    "  bacon + 1\n",
    "  \n",
    "  Variable bacon will contain value 23\n"
   ]
  },
  {
   "cell_type": "markdown",
   "id": "f7d84381-a3c1-4d66-8a82-da666c19cba2",
   "metadata": {},
   "source": [
    "7.What should the values of the following two terms be?\n",
    "\n",
    "'spam' + 'spamspam'\n",
    "\n",
    "Ans : 'spamspamspam'\n",
    "\n",
    "\n",
    "'spam' * 3\n",
    "\n",
    "Ans :'spamspamspam'\n"
   ]
  },
  {
   "cell_type": "markdown",
   "id": "497e46aa-b4f1-4a31-ac5d-29e0315c2092",
   "metadata": {},
   "source": [
    "8.Why is eggs a valid variable name while 100 is invalid?\n",
    "\n",
    "Because   variable enggs contains all the characters and it fulfils the python legal variable name\n",
    "But variable 100 is invalid because it contains numeric values which do not fulfils the python \n",
    "legal variable names\n",
    "\n",
    "Legal variable names i.e.myvar,my_var,_my_var ,myVar ,MYVAR,myvar2 \n"
   ]
  },
  {
   "cell_type": "markdown",
   "id": "50e75376-8c4b-4fd3-9071-67c6665bebd9",
   "metadata": {},
   "source": [
    "\n",
    "9.What three functions can be used to get the integer, floating-point number, or string version of a value?\n",
    "\n",
    "1.int()\n",
    "\n",
    "2.float()\n",
    "\n",
    "3.string()\n"
   ]
  },
  {
   "cell_type": "markdown",
   "id": "cff00845-6d51-41a2-9959-7901d18c20ef",
   "metadata": {},
   "source": [
    "\n",
    "\n",
    "10.Why does this expression cause an error? How can you fix it?\n",
    "\n",
    "\n",
    "'I have eaten ' + 99 + ' burritos.'\n",
    "\n",
    "Expression cause an error because in python cannot add integer and string. To fix the error can use int value 99 in string format as ‘99’.\n",
    "\n"
   ]
  }
 ],
 "metadata": {
  "kernelspec": {
   "display_name": "Python 3 (ipykernel)",
   "language": "python",
   "name": "python3"
  },
  "language_info": {
   "codemirror_mode": {
    "name": "ipython",
    "version": 3
   },
   "file_extension": ".py",
   "mimetype": "text/x-python",
   "name": "python",
   "nbconvert_exporter": "python",
   "pygments_lexer": "ipython3",
   "version": "3.9.12"
  }
 },
 "nbformat": 4,
 "nbformat_minor": 5
}
