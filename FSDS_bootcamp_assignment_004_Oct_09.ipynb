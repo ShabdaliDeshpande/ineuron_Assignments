{
  "nbformat": 4,
  "nbformat_minor": 0,
  "metadata": {
    "colab": {
      "provenance": [],
      "collapsed_sections": []
    },
    "kernelspec": {
      "name": "python3",
      "display_name": "Python 3"
    },
    "language_info": {
      "name": "python"
    }
  },
  "cells": [
    {
      "cell_type": "markdown",
      "source": [
        "# ASSIGNMENTS \n",
        "## Send it before 0000 hrs IST or 12 AM Wednesday\n",
        "\n",
        "## NOTE: Evaluation will be done before next class.\n",
        "\n",
        "## HOW TO SUBMIT: -\n",
        "Download this notebook, Solve it and upload in the google form given in the mail."
      ],
      "metadata": {
        "id": "dkGbTD94s6CD"
      }
    },
    {
      "cell_type": "markdown",
      "source": [
        "## control flow and conditional statements"
      ],
      "metadata": {
        "id": "n3FuI-mutNl6"
      }
    },
    {
      "cell_type": "markdown",
      "source": [
        "Q1. Find the largest number from the given list, use for loop.\n",
        "```\n",
        "numbers = [12, 75, 150, 180, 145, 525, 50]\n",
        "```"
      ],
      "metadata": {
        "id": "NCW2epdyuJ-a"
      }
    },
    {
      "cell_type": "code",
      "source": [
        "'''Largest number from the given list'''\n",
        "numbers = [12, 75, 150, 180, 145, 525, 50]\n",
        "numbers.sort()\n",
        "LN =numbers[-1]\n",
        "print(\"Largest number in given list is :\",LN)"
      ],
      "metadata": {
        "id": "7tMmlIOtkdEl",
        "outputId": "58f769ff-518e-4e33-8c20-826e8d55b6e4",
        "colab": {
          "base_uri": "https://localhost:8080/"
        }
      },
      "execution_count": 86,
      "outputs": [
        {
          "output_type": "stream",
          "name": "stdout",
          "text": [
            "Largest number in given list is : 525\n"
          ]
        }
      ]
    },
    {
      "cell_type": "code",
      "source": [],
      "metadata": {
        "id": "IQk3smZxhZ5h"
      },
      "execution_count": 2,
      "outputs": []
    },
    {
      "cell_type": "markdown",
      "source": [
        "Q2. Print all the even number between (1, 12)."
      ],
      "metadata": {
        "id": "Qsg0i1fTwEQj"
      }
    },
    {
      "cell_type": "code",
      "source": [
        "'''Even number between(1,12)'''\n",
        "print(\"Even numbers between(1,12)are:\")\n",
        "for i in range(1,13):\n",
        "  if i%2==0:\n",
        "    print(i)\n",
        "\n",
        "    \n"
      ],
      "metadata": {
        "id": "EzhYdHJRhXo_",
        "outputId": "d314f880-d7e5-4014-fa86-85340b32bbd3",
        "colab": {
          "base_uri": "https://localhost:8080/"
        }
      },
      "execution_count": 88,
      "outputs": [
        {
          "output_type": "stream",
          "name": "stdout",
          "text": [
            "Even numbers between(1,12)are:\n",
            "2\n",
            "4\n",
            "6\n",
            "8\n",
            "10\n",
            "12\n"
          ]
        }
      ]
    },
    {
      "cell_type": "markdown",
      "source": [
        "Q3. Calculate the sum of all numbers from 1 to a given number\n",
        "    \n",
        "    Expected Output:\n",
        "\n",
        "    Enter number 10\n",
        "    \n",
        "    Sum is:  55\n"
      ],
      "metadata": {
        "id": "WG2QcDDhwi4a"
      }
    },
    {
      "cell_type": "code",
      "source": [
        "'''Sum of numbers'''\n",
        "number = int(input(\"Enter your number:\"))\n",
        "L=[]\n",
        "for i in range(0,number+1):\n",
        "    L.append(i)\n",
        "Sum = sum(L)\n",
        "print(\"The sum of the numbers from 1 to given number is:\",Sum)"
      ],
      "metadata": {
        "id": "XeRArOlwndCt",
        "outputId": "3d871b4e-d528-4855-da1c-3c6fae892f33",
        "colab": {
          "base_uri": "https://localhost:8080/"
        }
      },
      "execution_count": 48,
      "outputs": [
        {
          "output_type": "stream",
          "name": "stdout",
          "text": [
            "Enter your number:10\n",
            "The sum of the numbers from 1 to given number is: 55\n"
          ]
        }
      ]
    },
    {
      "cell_type": "markdown",
      "source": [
        "Q4. Write a program to display only those numbers from a list that satisfy the following conditions\n",
        "\n",
        "- The number must be divisible by five\n",
        "\n",
        "- If the number is greater than 150, then skip it and move to the next number\n",
        "\n",
        "- If the number is greater than 500, then stop the loop"
      ],
      "metadata": {
        "id": "mc7lLUm5f4Cq"
      }
    },
    {
      "cell_type": "code",
      "source": [
        "\n",
        "numbers = [12, 75, 150, 180, 145, 525, 50]\n",
        "for i in numbers:\n",
        "  if i%5!=0:\n",
        "    a=i\n",
        "    numbers.remove(a)   \n",
        "  if i>150:\n",
        "    b=i\n",
        "    numbers.remove(b) \n",
        "  if i>500:\n",
        "    print(\"The list which satisfy all the conditions :\",numbers)\n",
        "    break\n",
        "\n",
        "\n",
        "  \n",
        "     \n",
        "\n",
        "     \n",
        "  \n",
        "  \n",
        "\n"
      ],
      "metadata": {
        "id": "P3Ct2ocKf6Hy",
        "outputId": "af106824-668a-4b87-8cc0-4087a13bbd9c",
        "colab": {
          "base_uri": "https://localhost:8080/"
        }
      },
      "execution_count": 84,
      "outputs": [
        {
          "output_type": "stream",
          "name": "stdout",
          "text": [
            "The list which satisfy all the conditions : [75, 150, 145, 50]\n"
          ]
        }
      ]
    },
    {
      "cell_type": "markdown",
      "source": [
        "Q5. Print the given list in reverse order.\n",
        "\n",
        "```\n",
        "list1 = [10, 20, 30, 40, 50]\n",
        "```"
      ],
      "metadata": {
        "id": "rrxWvy7nMnAs"
      }
    },
    {
      "cell_type": "code",
      "source": [
        "'''List in reverse order'''\n",
        "list1 = [10, 20, 30, 40, 50]\n",
        "list1[::-1]"
      ],
      "metadata": {
        "id": "z-GDgPn3Nr0y",
        "outputId": "3718e645-27d7-4278-cac6-7b14d43713fb",
        "colab": {
          "base_uri": "https://localhost:8080/"
        }
      },
      "execution_count": 83,
      "outputs": [
        {
          "output_type": "execute_result",
          "data": {
            "text/plain": [
              "[50, 40, 30, 20, 10]"
            ]
          },
          "metadata": {},
          "execution_count": 83
        }
      ]
    }
  ]
}