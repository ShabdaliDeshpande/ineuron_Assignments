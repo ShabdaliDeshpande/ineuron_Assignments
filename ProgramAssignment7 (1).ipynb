{
 "cells": [
  {
   "cell_type": "code",
   "execution_count": 93,
   "id": "59be4be2-5f8c-448c-ad14-214ae4d96d8f",
   "metadata": {},
   "outputs": [],
   "source": [
    "import numpy as np\n",
    "arr = np.array([1,2,3,4,5,6,7,8,9])"
   ]
  },
  {
   "cell_type": "code",
   "execution_count": 94,
   "id": "1aa21a07-ccc7-4bd6-90e9-c6ff81f99ad1",
   "metadata": {},
   "outputs": [
    {
     "data": {
      "text/plain": [
       "45"
      ]
     },
     "execution_count": 94,
     "metadata": {},
     "output_type": "execute_result"
    }
   ],
   "source": [
    "#Write a Python Program to find sum of array?\n",
    "def sum_of_array_elements(a):\n",
    "    try:\n",
    "        if isinstance(a,np.ndarray):\n",
    "            return a.sum()\n",
    "    except Exception as e:\n",
    "        print(e)\n",
    "sum_of_array_elements(arr)      "
   ]
  },
  {
   "cell_type": "code",
   "execution_count": 95,
   "id": "5e9b99ed-7ff2-43a8-9d8d-d5ba3509e991",
   "metadata": {},
   "outputs": [
    {
     "data": {
      "text/plain": [
       "9"
      ]
     },
     "execution_count": 95,
     "metadata": {},
     "output_type": "execute_result"
    }
   ],
   "source": [
    "#Write a Python Program to find largest element in an array?\n",
    "def large_number(a):\n",
    "    try:\n",
    "        if isinstance(a,np.ndarray):\n",
    "            a.sort() \n",
    "            return a[-1]       \n",
    "    except Exception as e:\n",
    "        print(e)\n",
    "large_number(arr)"
   ]
  },
  {
   "cell_type": "code",
   "execution_count": 97,
   "id": "2e66ac76-94b4-4902-acc5-53ca5fa3590a",
   "metadata": {},
   "outputs": [
    {
     "data": {
      "text/plain": [
       "array([3, 4, 5, 6, 7, 8, 9, 1, 2])"
      ]
     },
     "execution_count": 97,
     "metadata": {},
     "output_type": "execute_result"
    }
   ],
   "source": [
    "#Write a Python Program for array rotation?\n",
    "def rotate_array(arr):\n",
    "    rotation = arr[1]\n",
    "    temp = arr[0:rotation]\n",
    "    array =arr[2:len(arr)]\n",
    "    rotated_array = np.append(array,temp)\n",
    "    return rotated_array\n",
    "    \n",
    "rotate_array(arr)    "
   ]
  },
  {
   "cell_type": "code",
   "execution_count": 98,
   "id": "fd101a33-560b-45a2-a02d-22009fb4bab7",
   "metadata": {},
   "outputs": [
    {
     "data": {
      "text/plain": [
       "array([5, 6, 7, 8, 9, 1, 2, 3, 4])"
      ]
     },
     "execution_count": 98,
     "metadata": {},
     "output_type": "execute_result"
    }
   ],
   "source": [
    "#Write a Python Program to Split the array and add the first part to the end?\n",
    "def flip_array(arr):\n",
    "    temp1 = arr[0:int(len(arr)/2)]\n",
    "    temp2 = arr[int(len(arr)/2) : len(arr)]\n",
    "    f = np.append(temp2,temp1)\n",
    "    return f\n",
    "flip_array(arr)"
   ]
  },
  {
   "cell_type": "code",
   "execution_count": 118,
   "id": "9baf9525-2809-4bc3-be09-81988970a8d7",
   "metadata": {},
   "outputs": [
    {
     "name": "stdout",
     "output_type": "stream",
     "text": [
      "Array is not Monotonic\n"
     ]
    }
   ],
   "source": [
    "#Write a Python Program to check if given array is Monotonic?\n",
    "\n",
    "A = [1,4,2,3,3,5]\n",
    "def monotonic(A):\n",
    "    x, y = [],[]\n",
    "    x.extend(A)\n",
    "    y.extend(A)\n",
    "    x.sort()\n",
    "    y.sort(reverse = True)\n",
    "    if(x==A or y==A):\n",
    "        print(\"Array is Monotonic\")\n",
    "    else:\n",
    "        print(\"Array is not Monotonic\")\n",
    "monotonic(A)\n"
   ]
  }
 ],
 "metadata": {
  "kernelspec": {
   "display_name": "Python 3 (ipykernel)",
   "language": "python",
   "name": "python3"
  },
  "language_info": {
   "codemirror_mode": {
    "name": "ipython",
    "version": 3
   },
   "file_extension": ".py",
   "mimetype": "text/x-python",
   "name": "python",
   "nbconvert_exporter": "python",
   "pygments_lexer": "ipython3",
   "version": "3.10.6"
  }
 },
 "nbformat": 4,
 "nbformat_minor": 5
}
