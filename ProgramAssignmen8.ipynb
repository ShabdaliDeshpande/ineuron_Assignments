{
 "cells": [
  {
   "cell_type": "code",
   "execution_count": 37,
   "id": "9c6899dd-8889-4886-94dc-3c2d563c299f",
   "metadata": {},
   "outputs": [
    {
     "data": {
      "text/plain": [
       "matrix([[ 4,  5,  6,  7,  8],\n",
       "        [ 5,  6,  7,  8,  9],\n",
       "        [ 6,  7,  8,  9, 10],\n",
       "        [ 7,  8,  9, 10, 11],\n",
       "        [ 8,  9, 10, 11, 12]])"
      ]
     },
     "execution_count": 37,
     "metadata": {},
     "output_type": "execute_result"
    }
   ],
   "source": [
    "#Write a Python Program to Add Two Matrices?\n",
    "\n",
    "M1 = np.matrix([1,2,3,4,5])\n",
    "M2 = np.matrix([3,4,5,6,7]).T\n",
    "M1+M2\n",
    "\n",
    "\n",
    "\n"
   ]
  },
  {
   "cell_type": "code",
   "execution_count": 38,
   "id": "88b81dc0-aa77-462d-8148-7c98c49fd28e",
   "metadata": {},
   "outputs": [
    {
     "data": {
      "text/plain": [
       "matrix([[85]])"
      ]
     },
     "execution_count": 38,
     "metadata": {},
     "output_type": "execute_result"
    }
   ],
   "source": [
    "#Write a Python Program to Multiply Two Matrices?\n",
    "np.dot(M1,M2)"
   ]
  },
  {
   "cell_type": "code",
   "execution_count": 39,
   "id": "d5c7f8ed-1efb-4bff-aff2-7daa4bc07e1c",
   "metadata": {},
   "outputs": [
    {
     "data": {
      "text/plain": [
       "matrix([[1],\n",
       "        [2],\n",
       "        [3],\n",
       "        [4]])"
      ]
     },
     "execution_count": 39,
     "metadata": {},
     "output_type": "execute_result"
    }
   ],
   "source": [
    "#Write a Python Program to Transpose a Matrix?\n",
    "np.matrix([1,2,3,4]).T\n"
   ]
  },
  {
   "cell_type": "code",
   "execution_count": 41,
   "id": "a01fcbae-7665-401c-aa0f-d29dd0c66e24",
   "metadata": {},
   "outputs": [
    {
     "data": {
      "text/plain": [
       "['Aditya', 'Alifa', 'Pranita', 'Rutuja', 'Shabdali', 'Shardul', 'Shubhangi']"
      ]
     },
     "execution_count": 41,
     "metadata": {},
     "output_type": "execute_result"
    }
   ],
   "source": [
    "#Write a Python Program to Sort Words in Alphabetic Order?\n",
    "l = ['Shabdali','Aditya','Rutuja','Alifa','Pranita','Shubhangi','Shardul']\n",
    "l.sort()\n",
    "l"
   ]
  },
  {
   "cell_type": "code",
   "execution_count": 42,
   "id": "aac1f52e-487c-4662-9456-c2241096fea5",
   "metadata": {},
   "outputs": [
    {
     "data": {
      "text/plain": [
       "'Shabdali Deshapnde'"
      ]
     },
     "execution_count": 42,
     "metadata": {},
     "output_type": "execute_result"
    }
   ],
   "source": [
    "#Write a Python Program to Remove Punctuation From a String?\n",
    "s = 'Shabdali!Deshapnde'\n",
    "s.replace('!', \" \")"
   ]
  }
 ],
 "metadata": {
  "kernelspec": {
   "display_name": "Python 3 (ipykernel)",
   "language": "python",
   "name": "python3"
  },
  "language_info": {
   "codemirror_mode": {
    "name": "ipython",
    "version": 3
   },
   "file_extension": ".py",
   "mimetype": "text/x-python",
   "name": "python",
   "nbconvert_exporter": "python",
   "pygments_lexer": "ipython3",
   "version": "3.10.6"
  }
 },
 "nbformat": 4,
 "nbformat_minor": 5
}
